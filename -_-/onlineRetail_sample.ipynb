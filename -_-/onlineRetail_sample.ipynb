{
 "cells": [
  {
   "cell_type": "code",
   "execution_count": 3,
   "id": "23287c9c",
   "metadata": {},
   "outputs": [],
   "source": [
    "#Task 1: Retrieving and Preparing the Data (5%)\n",
    "#Being a careful data scientist, you know that it is vital to set the goal of the project, then\n",
    "#thoroughly pre-process any available data (each attribute) before starting to analyse and model\n",
    "#it. In your report in Task 4, You need to clearly state the goal of your project, and the design/steps of\n",
    "#pre-processing your data. Please ensure you understand the data you selected."
   ]
  },
  {
   "cell_type": "code",
   "execution_count": 4,
   "id": "42e383ac",
   "metadata": {},
   "outputs": [
    {
     "ename": "ImportError",
     "evalue": "cannot import name 'plot_confusion_matrix' from 'sklearn.metrics' (c:\\Users\\Admin\\AppData\\Local\\Programs\\Python\\Python310\\lib\\site-packages\\sklearn\\metrics\\__init__.py)",
     "output_type": "error",
     "traceback": [
      "\u001b[1;31m---------------------------------------------------------------------------\u001b[0m",
      "\u001b[1;31mImportError\u001b[0m                               Traceback (most recent call last)",
      "Cell \u001b[1;32mIn [4], line 21\u001b[0m\n\u001b[0;32m     19\u001b[0m \u001b[38;5;28;01mfrom\u001b[39;00m \u001b[38;5;21;01msklearn\u001b[39;00m\u001b[38;5;21;01m.\u001b[39;00m\u001b[38;5;21;01mmetrics\u001b[39;00m \u001b[38;5;28;01mimport\u001b[39;00m accuracy_score\n\u001b[0;32m     20\u001b[0m \u001b[38;5;28;01mfrom\u001b[39;00m \u001b[38;5;21;01msklearn\u001b[39;00m\u001b[38;5;21;01m.\u001b[39;00m\u001b[38;5;21;01msvm\u001b[39;00m \u001b[38;5;28;01mimport\u001b[39;00m SVC\n\u001b[1;32m---> 21\u001b[0m \u001b[38;5;28;01mfrom\u001b[39;00m \u001b[38;5;21;01msklearn\u001b[39;00m\u001b[38;5;21;01m.\u001b[39;00m\u001b[38;5;21;01mmetrics\u001b[39;00m \u001b[38;5;28;01mimport\u001b[39;00m plot_confusion_matrix\n\u001b[0;32m     22\u001b[0m \u001b[38;5;28;01mfrom\u001b[39;00m \u001b[38;5;21;01msklearn\u001b[39;00m\u001b[38;5;21;01m.\u001b[39;00m\u001b[38;5;21;01mnaive_bayes\u001b[39;00m \u001b[38;5;28;01mimport\u001b[39;00m GaussianNB\n\u001b[0;32m     23\u001b[0m \u001b[38;5;28;01mfrom\u001b[39;00m \u001b[38;5;21;01msklearn\u001b[39;00m\u001b[38;5;21;01m.\u001b[39;00m\u001b[38;5;21;01mlinear_model\u001b[39;00m \u001b[38;5;28;01mimport\u001b[39;00m LogisticRegression\n",
      "\u001b[1;31mImportError\u001b[0m: cannot import name 'plot_confusion_matrix' from 'sklearn.metrics' (c:\\Users\\Admin\\AppData\\Local\\Programs\\Python\\Python310\\lib\\site-packages\\sklearn\\metrics\\__init__.py)"
     ]
    }
   ],
   "source": [
    "#import Libraries\n",
    "import pandas as pd\n",
    "import numpy as np\n",
    "import matplotlib.pyplot as plt\n",
    "from matplotlib import cm\n",
    "import datetime as dt\n",
    "from sklearn import datasets, linear_model\n",
    "from sklearn.preprocessing import StandardScaler\n",
    "from sklearn.linear_model import LinearRegression\n",
    "from sklearn.cluster import KMeans\n",
    "from sklearn.metrics import silhouette_score\n",
    "from sklearn.metrics import silhouette_samples\n",
    "import seaborn as sns\n",
    "from sklearn.cluster import Birch\n",
    "from sklearn.pipeline import Pipeline\n",
    "from sklearn.metrics.pairwise import euclidean_distances\n",
    "from sklearn.model_selection import train_test_split, GridSearchCV, learning_curve, validation_curve\n",
    "from sklearn.metrics import confusion_matrix, classification_report, recall_score, precision_score, f1_score,r2_score\n",
    "from sklearn.metrics import accuracy_score\n",
    "from sklearn.svm import SVC\n",
    "from sklearn.metrics import plot_confusion_matrix\n",
    "from sklearn.naive_bayes import GaussianNB\n",
    "from sklearn.linear_model import LogisticRegression\n",
    "from sklearn.preprocessing import LabelEncoder\n",
    "from sklearn.cluster import DBSCAN"
   ]
  },
  {
   "cell_type": "code",
   "execution_count": null,
   "id": "412f5777",
   "metadata": {},
   "outputs": [],
   "source": [
    "#import retail file\n",
    "data = pd.read_excel('online_retail_II.xlsx', sheet_name=\"Year 2009-2010\")"
   ]
  },
  {
   "cell_type": "code",
   "execution_count": null,
   "id": "b8689a0e",
   "metadata": {},
   "outputs": [],
   "source": [
    "#display data\n",
    "data"
   ]
  },
  {
   "cell_type": "code",
   "execution_count": null,
   "id": "c588b74b",
   "metadata": {},
   "outputs": [],
   "source": [
    "data.describe()"
   ]
  },
  {
   "cell_type": "code",
   "execution_count": null,
   "id": "2a4812b0",
   "metadata": {},
   "outputs": [],
   "source": [
    "data.isna().sum()"
   ]
  },
  {
   "cell_type": "code",
   "execution_count": null,
   "id": "00c3c0ac",
   "metadata": {},
   "outputs": [],
   "source": [
    "data = data.dropna()\n",
    "data"
   ]
  },
  {
   "cell_type": "code",
   "execution_count": null,
   "id": "d22522e8",
   "metadata": {},
   "outputs": [],
   "source": [
    "data.info()"
   ]
  },
  {
   "cell_type": "code",
   "execution_count": null,
   "id": "40c4b5d1",
   "metadata": {},
   "outputs": [],
   "source": [
    "#check format data types\n",
    "data.dtypes"
   ]
  },
  {
   "attachments": {},
   "cell_type": "markdown",
   "id": "b2611141",
   "metadata": {},
   "source": [
    "We can see that the involve date column represents valid date-time type format"
   ]
  },
  {
   "cell_type": "code",
   "execution_count": null,
   "id": "44046e16",
   "metadata": {},
   "outputs": [],
   "source": [
    "data['Country'].value_counts().sort_index()"
   ]
  },
  {
   "cell_type": "code",
   "execution_count": null,
   "id": "df9e9708",
   "metadata": {},
   "outputs": [],
   "source": [
    "#we can see the min value is 0.0 and max value is 38970.0\n",
    "data['Price'].value_counts().sort_index()"
   ]
  },
  {
   "cell_type": "code",
   "execution_count": null,
   "id": "e3b50a2c",
   "metadata": {},
   "outputs": [],
   "source": [
    "pd.set_option(\"display.max_rows\", None)\n",
    "data['Description'].value_counts().sort_index()"
   ]
  },
  {
   "cell_type": "code",
   "execution_count": null,
   "id": "1dc94f85",
   "metadata": {},
   "outputs": [],
   "source": [
    "data['Description'] = data['Description'].str.replace(' ', '')\n",
    "data['Description'] = data['Description'].str.replace(\"'\", '')\n",
    "data['Description'] = data['Description'].str.replace(\",\", '')\n",
    "data['Description'] = data['Description'].str.replace(\"/\", '')\n",
    "data['Description'].value_counts().sort_index()"
   ]
  },
  {
   "cell_type": "code",
   "execution_count": null,
   "id": "5fc52e32",
   "metadata": {},
   "outputs": [],
   "source": [
    "data[\"TotalPrice\"] = data[\"Price\"] * data[\"Quantity\"]\n",
    "pd.set_option(\"display.max_rows\", 200)"
   ]
  },
  {
   "cell_type": "code",
   "execution_count": null,
   "id": "4b813bf8",
   "metadata": {},
   "outputs": [],
   "source": [
    "data"
   ]
  },
  {
   "cell_type": "code",
   "execution_count": null,
   "id": "209d9067",
   "metadata": {
    "notebookRunGroups": {
     "groupValue": ""
    }
   },
   "outputs": [],
   "source": [
    "data['Customer ID'].value_counts().sort_index()"
   ]
  },
  {
   "attachments": {},
   "cell_type": "markdown",
   "id": "51eab14e",
   "metadata": {},
   "source": [
    "Since there are some customer ID with weird value(s), we drop them."
   ]
  },
  {
   "cell_type": "code",
   "execution_count": null,
   "id": "b617bac0",
   "metadata": {},
   "outputs": [],
   "source": [
    "#drop nan values\n",
    "data['Customer ID'] = data['Customer ID'].dropna()\n",
    "data"
   ]
  },
  {
   "cell_type": "code",
   "execution_count": null,
   "id": "78374fc6",
   "metadata": {},
   "outputs": [],
   "source": [
    "data.isna().sum()"
   ]
  },
  {
   "cell_type": "code",
   "execution_count": null,
   "id": "859e4c76",
   "metadata": {},
   "outputs": [],
   "source": [
    "#Data visualization\n",
    "# Count of transactions by country\n",
    "sns.set_style('darkgrid')\n",
    "plt.figure(figsize=(15, 8))\n",
    "sns.countplot(x='Country', data=data)\n",
    "plt.xticks(rotation=90)\n",
    "plt.show()"
   ]
  },
  {
   "cell_type": "code",
   "execution_count": null,
   "id": "065c05a8",
   "metadata": {},
   "outputs": [],
   "source": [
    "#Calculate order per month\n",
    "data['month']= data['InvoiceDate'].dt.month\n",
    "data['year']= data['InvoiceDate'].dt.year\n",
    "data['month_year'] = pd.to_datetime(data[['year', 'month']].assign(DAY=1))\n",
    "data['revenue'] = data['Price'] * data['Quantity']\n",
    "data['month_year'].value_counts().sort_index()\n",
    "\n",
    "sns.set_theme(style=\"whitegrid\")\n",
    "plt.figure(figsize=(10,5))\n",
    "plot = pd.DataFrame(data.groupby(['month_year'])['Invoice'].count()).reset_index()\n",
    "ax = sns.lineplot(x=\"month_year\", y=\"Invoice\", data = plot)\n",
    "ax.set_title('Number of orders per month')\n",
    "plt.show()\n"
   ]
  },
  {
   "cell_type": "code",
   "execution_count": null,
   "id": "98efc567",
   "metadata": {},
   "outputs": [],
   "source": [
    "#Calculate revenue per month\n",
    "sns.set_theme(style=\"whitegrid\")\n",
    "plt.figure(figsize=(10,5))\n",
    "plot = pd.DataFrame(data.groupby(['month_year'])['revenue'].sum()).reset_index()\n",
    "ax = sns.lineplot(x=\"month_year\", y=\"revenue\", data = plot)\n",
    "ax.set_title('Revenue per month')\n",
    "plt.show()"
   ]
  },
  {
   "attachments": {},
   "cell_type": "markdown",
   "id": "83a3db5f",
   "metadata": {},
   "source": [
    "We can se that after peaked at 2010, the revenue and also number of order per month decrease gradually"
   ]
  },
  {
   "cell_type": "code",
   "execution_count": null,
   "id": "7818d468",
   "metadata": {},
   "outputs": [],
   "source": [
    "#check duplication for the Customer ID and stocl code column \n",
    "groupdt = data.groupby(['Customer ID', 'StockCode']).size().reset_index(name='counts')\n",
    "groupdt\n",
    "#discplay the groupdt data frame \n",
    "groupdt[groupdt['counts'] > 1]"
   ]
  },
  {
   "cell_type": "code",
   "execution_count": null,
   "id": "b8e4542e",
   "metadata": {},
   "outputs": [],
   "source": [
    "analysisdata = data[['Invoice',\"TotalPrice\",\"InvoiceDate\"]].groupby([data.InvoiceDate.dt.year,data.InvoiceDate.dt.month,\"Invoice\"]).sum()\n",
    "analysisdata"
   ]
  },
  {
   "cell_type": "code",
   "execution_count": null,
   "id": "454ea65d",
   "metadata": {},
   "outputs": [],
   "source": [
    "analysisdata2 = data[['Invoice',\"TotalPrice\",\"InvoiceDate\"]].groupby([data.InvoiceDate.dt.year,data.InvoiceDate.dt.month]).sum()\n",
    "analysisdata2"
   ]
  },
  {
   "cell_type": "code",
   "execution_count": null,
   "id": "76cf9c56",
   "metadata": {},
   "outputs": [],
   "source": [
    "analysisdata2.plot.bar(y='TotalPrice')"
   ]
  },
  {
   "cell_type": "code",
   "execution_count": null,
   "id": "4000ced2",
   "metadata": {},
   "outputs": [],
   "source": [
    "data.hist(figsize = (15,15))\n"
   ]
  },
  {
   "cell_type": "code",
   "execution_count": null,
   "id": "bdcb31e7",
   "metadata": {},
   "outputs": [],
   "source": [
    "plt.figure(figsize= (9,8))\n",
    "cor = data.corr() \n",
    "sns.heatmap(cor, annot=True, cmap=plt.cm.RdYlBu)\n",
    "plt.show()"
   ]
  },
  {
   "cell_type": "code",
   "execution_count": null,
   "id": "4b49d4ac",
   "metadata": {},
   "outputs": [],
   "source": [
    "#group customer id and data\n",
    "CusPri = data.groupby('Customer ID')['TotalPrice'].sum()\n",
    "CusPri = CusPri.reset_index()\n",
    "CusPri"
   ]
  },
  {
   "cell_type": "code",
   "execution_count": null,
   "id": "d7c64510",
   "metadata": {},
   "outputs": [],
   "source": [
    "#group by the customer id with the total amount that they spent\n",
    "#sort the values in descending order\n",
    "InCus = data.groupby('Customer ID')['Invoice'].count()\n",
    "InCus = InCus.reset_index()\n",
    "InCus\n"
   ]
  },
  {
   "cell_type": "code",
   "execution_count": null,
   "id": "b15d750e",
   "metadata": {},
   "outputs": [],
   "source": [
    "#merge data frames \n",
    "customers = pd.merge(CusPri, InCus, on='Customer ID')\n",
    "customers\n"
   ]
  },
  {
   "attachments": {},
   "cell_type": "markdown",
   "id": "059cf2c4",
   "metadata": {},
   "source": [
    "Also, we can get more details \n",
    "In this task, I observes which customer has and has not visited the store."
   ]
  },
  {
   "cell_type": "code",
   "execution_count": null,
   "id": "b2705fb2",
   "metadata": {},
   "outputs": [],
   "source": [
    "# find the most recent date the store active\n",
    "last= data['InvoiceDate'].max()\n",
    "last\n"
   ]
  },
  {
   "cell_type": "code",
   "execution_count": null,
   "id": "13826ecb",
   "metadata": {},
   "outputs": [],
   "source": [
    "data['Last Active']=last - data['InvoiceDate']\n",
    "data"
   ]
  },
  {
   "cell_type": "code",
   "execution_count": null,
   "id": "ab5765dd",
   "metadata": {},
   "outputs": [],
   "source": [
    "#find the difference between the last date and the date of the invoice\n",
    "recent = data.groupby('Customer ID')['Last Active'].min()\n",
    "recent = recent.reset_index()\n",
    "recent['Last Active']= recent['Last Active'].dt.days\n",
    "recent"
   ]
  },
  {
   "cell_type": "code",
   "execution_count": null,
   "id": "530bb10e",
   "metadata": {},
   "outputs": [],
   "source": [
    "#group all \n",
    "customers = pd.merge(customers, recent, on='Customer ID')\n",
    "customers"
   ]
  },
  {
   "cell_type": "code",
   "execution_count": null,
   "id": "89eb9ed4",
   "metadata": {},
   "outputs": [],
   "source": [
    "X = customers['TotalPrice'].quantile(0.05)\n",
    "Y = customers['TotalPrice'].quantile(0.95)\n",
    "iqr = Y - X"
   ]
  },
  {
   "cell_type": "code",
   "execution_count": null,
   "id": "c0338c59",
   "metadata": {},
   "outputs": [],
   "source": [
    "#Use the quartile variable to remove outliers\n",
    "customers = customers[(customers['TotalPrice'] >= X - 1.5*iqr) & (customers['TotalPrice'] < Y + 1.5*iqr)]\n"
   ]
  },
  {
   "cell_type": "code",
   "execution_count": null,
   "id": "44890b9b",
   "metadata": {},
   "outputs": [],
   "source": [
    "#After removing outliers, we can scale the data \n",
    "scc = StandardScaler()\n",
    "scale= scc.fit_transform(customers[['Invoice','TotalPrice','Last Active']])\n",
    "scale.shape"
   ]
  },
  {
   "cell_type": "code",
   "execution_count": null,
   "id": "bc3db632",
   "metadata": {},
   "outputs": [],
   "source": [
    "scaleValue = pd.DataFrame(scale, columns=['Invoice','TotalPrice','Last Active'])\n",
    "scaleValue"
   ]
  },
  {
   "attachments": {},
   "cell_type": "markdown",
   "id": "3e21b911",
   "metadata": {},
   "source": [
    "KMean Cluster\n",
    "We need to provide K value and we can find the K value using elbow graph"
   ]
  },
  {
   "cell_type": "code",
   "execution_count": null,
   "id": "f085dba8",
   "metadata": {},
   "outputs": [],
   "source": [
    "target = []\n",
    "for i in range(2,7):\n",
    "    kmeans = KMeans(n_clusters=i, max_iter=1000, random_state=42, n_init=50, verbose = True).fit(scaleValue)\n",
    "    target.append(kmeans.inertia_)  "
   ]
  },
  {
   "cell_type": "code",
   "execution_count": null,
   "id": "6a25e117",
   "metadata": {},
   "outputs": [],
   "source": [
    "print(len(target)) # 5"
   ]
  },
  {
   "cell_type": "code",
   "execution_count": null,
   "id": "54087abe",
   "metadata": {},
   "outputs": [],
   "source": [
    "plt.plot(range(2,7,1),target)\n",
    "plt.xticks(ticks = range(2,7))"
   ]
  },
  {
   "cell_type": "code",
   "execution_count": null,
   "id": "2e162ae6",
   "metadata": {},
   "outputs": [],
   "source": [
    "# create the final model with 3 clusters \n",
    "kmeans = KMeans(n_clusters=3, max_iter=1000, random_state=42, n_init=50, verbose = True).fit(scaleValue)\n",
    "cluster_labels = kmeans.labels_\n",
    "customers['Cluster'] = cluster_labels\n",
    "customers\n"
   ]
  },
  {
   "cell_type": "code",
   "execution_count": null,
   "id": "2c5b9af6",
   "metadata": {},
   "outputs": [],
   "source": [
    "sns.boxplot(x='Cluster', y='TotalPrice', data=customers)\n",
    "plt.show()"
   ]
  },
  {
   "cell_type": "code",
   "execution_count": null,
   "id": "ceeea76b",
   "metadata": {},
   "outputs": [],
   "source": [
    "sns.boxplot(x='Cluster', y='Invoice', data=customers)"
   ]
  },
  {
   "cell_type": "code",
   "execution_count": null,
   "id": "a9e25751",
   "metadata": {},
   "outputs": [],
   "source": [
    "sns.boxplot(x='Cluster', y='Last Active', data=customers)"
   ]
  },
  {
   "cell_type": "code",
   "execution_count": null,
   "id": "8ed7a0b5",
   "metadata": {},
   "outputs": [],
   "source": [
    "#calculate the silhouette score\n",
    "def plot_silhouette_score(data, labels):\n",
    "    cluster_labels = np.unique(labels)\n",
    "    n_clusters = cluster_labels.shape[0]\n",
    "    silhouette_vals = silhouette_samples(data, labels, metric='euclidean')\n",
    "    y_ax_lower, y_ax_upper = 0, 0\n",
    "    yticks = []\n",
    "    \n",
    "    for i, c in enumerate(cluster_labels):\n",
    "        c_silhouette_vals = silhouette_vals[labels == c]\n",
    "        c_silhouette_vals.sort()\n",
    "        y_ax_upper += len(c_silhouette_vals)\n",
    "        color = cm.jet(i / n_clusters)\n",
    "        plt.barh(range(y_ax_lower, y_ax_upper), c_silhouette_vals, height=1.0, edgecolor='none', color=color)\n",
    "        yticks.append((y_ax_lower + y_ax_upper) / 2)\n",
    "        y_ax_lower += len(c_silhouette_vals)\n",
    "    \n",
    "    silhouette_avg = np.mean(silhouette_vals)\n",
    "    plt.axvline(silhouette_avg, color=\"red\", linestyle=\"--\")\n",
    "    plt.yticks(yticks, cluster_labels + 1)\n",
    "    plt.ylabel('Cluster')\n",
    "    plt.xlabel('Silhouette coefficient')\n",
    "    plt.show()\n",
    "\n",
    "    return silhouette_avg\n",
    "    \n",
    "plot_silhouette_score(scaleValue, cluster_labels)"
   ]
  },
  {
   "cell_type": "code",
   "execution_count": null,
   "id": "2b8b1a8e",
   "metadata": {},
   "outputs": [],
   "source": [
    "silhouette = dict()\n",
    "for k in range(2, 15):\n",
    "    kmeans = KMeans(init='k-means++', n_clusters=k)\n",
    "    clusters = kmeans.fit_predict(scaleValue)\n",
    "    silhouette[k] = silhouette_score(scaleValue, clusters)"
   ]
  },
  {
   "cell_type": "code",
   "execution_count": null,
   "id": "516bd144",
   "metadata": {},
   "outputs": [],
   "source": [
    "plt.plot (list(silhouette.keys()), list(silhouette.values()))\n",
    "plt.xlabel('Number of clusters')\n",
    "plt.ylabel('Silhouette score')\n",
    "plt.show()\n"
   ]
  },
  {
   "cell_type": "code",
   "execution_count": null,
   "id": "cde51ee4",
   "metadata": {},
   "outputs": [],
   "source": [
    "print('The best number of clusters is: ', max(silhouette, key=silhouette.get))"
   ]
  },
  {
   "cell_type": "code",
   "execution_count": null,
   "id": "6673f07a",
   "metadata": {},
   "outputs": [],
   "source": [
    "plot_silhouette_score(scaleValue, customers['Cluster'])"
   ]
  },
  {
   "cell_type": "code",
   "execution_count": null,
   "id": "56a581fa",
   "metadata": {},
   "outputs": [],
   "source": [
    "pd.DataFrame(pd.Series(kmeans.labels_).value_counts(), columns=['Cluster Size'])"
   ]
  },
  {
   "cell_type": "code",
   "execution_count": null,
   "id": "ce3825af",
   "metadata": {},
   "outputs": [],
   "source": [
    "# clustering technique 2: DBSCAN\n",
    "#generate the model\n",
    "dbscan = DBSCAN(eps=0.5, min_samples=5, metric='euclidean')\n",
    "dbscan.fit(scaleValue)"
   ]
  },
  {
   "cell_type": "code",
   "execution_count": null,
   "id": "59ca1c83",
   "metadata": {},
   "outputs": [],
   "source": [
    "#find the number of clusters\n",
    "labels = dbscan.labels_\n",
    "n_clusters = len(set(labels)) - (1 if -1 in labels else 0)\n",
    "n_clusters"
   ]
  },
  {
   "cell_type": "code",
   "execution_count": null,
   "id": "3b4403fb",
   "metadata": {},
   "outputs": [],
   "source": [
    "#find the number of noise points\n",
    "n_noise = list(labels).count(-1)\n",
    "n_noise"
   ]
  },
  {
   "cell_type": "code",
   "execution_count": null,
   "id": "4c10e7c3",
   "metadata": {},
   "outputs": [],
   "source": [
    "#calculate the silhouette score\n",
    "silhouette= silhouette_score(scaleValue, labels)\n",
    "silhouette"
   ]
  },
  {
   "cell_type": "code",
   "execution_count": null,
   "id": "78d760e7",
   "metadata": {},
   "outputs": [],
   "source": [
    "print(\"estimate number of clusters: %d\" % n_clusters)\n",
    "print(\"Silhouette Coefficient: %0.3f\" % silhouette_score(scaleValue, labels))"
   ]
  },
  {
   "attachments": {},
   "cell_type": "markdown",
   "id": "79376c86",
   "metadata": {},
   "source": [
    "the silhouette score for kmeans clustering 0.515263490702985\n",
    "the silhouette score for DBSCAN 0.5789194190984394\n"
   ]
  },
  {
   "attachments": {},
   "cell_type": "markdown",
   "id": "86a7f834",
   "metadata": {},
   "source": [
    "## Classification\n"
   ]
  },
  {
   "cell_type": "code",
   "execution_count": null,
   "id": "3cd4206c",
   "metadata": {},
   "outputs": [],
   "source": [
    "#Splitting train and test set \n",
    "#Support vector classifier\n",
    "X = customers[['Invoice','TotalPrice','Last Active']]\n",
    "y = customers['Cluster']\n",
    "X_train, X_test, y_train, y_test = train_test_split(X, y, test_size=0.2, random_state=42)"
   ]
  },
  {
   "cell_type": "code",
   "execution_count": null,
   "id": "a3ca0bc7",
   "metadata": {},
   "outputs": [],
   "source": [
    "def train_and_plot(model, X_train, y_train, X_test, y_test):\n",
    "    model.fit(X_train, y_train)\n",
    "    y_pred = model.predict(X_test)\n",
    "    # classification report\n",
    "    print('\\n{}'.format(classification_report(y_test, y_pred)))\n",
    "    print('Accuracy score: ', accuracy_score(y_test, y_pred))\n",
    "    print('Confusion matrix: \\n', confusion_matrix(y_test, y_pred))\n",
    "    print('Classification report: \\n', classification_report(y_test, y_pred))\n",
    "    plot_confusion_matrix(model, X_test, y_test, cmap='Blues')\n",
    "    plt.show()"
   ]
  },
  {
   "cell_type": "code",
   "execution_count": null,
   "id": "5b91f209",
   "metadata": {},
   "outputs": [],
   "source": [
    "# Naive Bayes\n",
    "# from sklearn.naive_bayes import GaussianNB (choose model class)\n",
    "nb_model = GaussianNB() # instantiate model\n",
    "nb_model.fit(X_train, y_train) #fit the model to the data"
   ]
  },
  {
   "cell_type": "code",
   "execution_count": null,
   "id": "b786b748",
   "metadata": {},
   "outputs": [],
   "source": [
    "predictions = nb_model.predict(X_test)\n",
    "acc = accuracy_score(y_test, predictions)\n",
    "print(\"Accuracy: %.2f%%\" % (acc * 100.0))"
   ]
  },
  {
   "cell_type": "code",
   "execution_count": null,
   "id": "117ecbd9",
   "metadata": {},
   "outputs": [],
   "source": [
    "pipeline = Pipeline([('scaler', StandardScaler()), ('estimator', SVC())])\n",
    "param = {'estimator__C': [0.1, 1, 10, 100, 1000], 'estimator__gamma': [1, 0.1, 0.01, 0.001, 0.0001], 'estimator__kernel': ['rbf']}\n",
    "grid = GridSearchCV(pipeline, param_grid=param, cv=5, verbose=2)\n",
    "grid.fit(X_train, y_train)\n",
    "print(grid.best_params_)\n",
    "print(grid.best_score_)\n",
    "print(grid.best_estimator_)\n",
    "print(grid.score(X_test, y_test))\n"
   ]
  },
  {
   "attachments": {},
   "cell_type": "markdown",
   "id": "bb757ed1",
   "metadata": {},
   "source": [
    "## Linear regression "
   ]
  },
  {
   "cell_type": "code",
   "execution_count": null,
   "id": "e12cb396",
   "metadata": {},
   "outputs": [],
   "source": [
    "#fold cross validation \n",
    "from sklearn.model_selection import cross_val_score\n",
    "accuracies = cross_val_score(estimator = grid, X = X_train, y = y_train, cv = 10)\n",
    "print(\"Accuracy: {:.2f} %\".format(accuracies.mean()*100))\n",
    "print(\"Standard Deviation: {:.2f} %\".format(accuracies.std()*100))"
   ]
  },
  {
   "cell_type": "code",
   "execution_count": null,
   "id": "ee32fc04",
   "metadata": {},
   "outputs": [],
   "source": [
    "# create test and train\n",
    "X_train, X_test, y_train, y_test = train_test_split(data, y, test_size = 0.3)\n",
    "print(X_train.shape, y_train.shape)\n",
    "print(X_test.shape, y_train.shape)"
   ]
  },
  {
   "cell_type": "code",
   "execution_count": null,
   "id": "614c843a",
   "metadata": {},
   "outputs": [],
   "source": [
    "lrm = linear_model.LinearRegression()\n",
    "lrm_model = lrm.fit(X_train, y_train)\n",
    "lrm_prediction = lrm.predict(X_test)"
   ]
  },
  {
   "cell_type": "code",
   "execution_count": null,
   "id": "dc83ad52",
   "metadata": {},
   "outputs": [],
   "source": [
    "lrm_prediction[0:10]"
   ]
  },
  {
   "cell_type": "code",
   "execution_count": null,
   "id": "ada40c37",
   "metadata": {},
   "outputs": [],
   "source": [
    "print(lrm_prediction)\n",
    "type(lrm_prediction)"
   ]
  },
  {
   "cell_type": "code",
   "execution_count": null,
   "id": "00ee3277",
   "metadata": {},
   "outputs": [],
   "source": [
    "df2 = pd.DataFrame(X_test)\n",
    "df2[\"revenue actual\"] = y_test\n",
    "df2[\"revenue pre\"] = lrm_prediction\n",
    "df2.head(10)"
   ]
  },
  {
   "cell_type": "code",
   "execution_count": null,
   "id": "e87ed7e2",
   "metadata": {},
   "outputs": [],
   "source": [
    "plt.scatter (y_test, lrm_prediction) \n",
    "plt.title (\"Plot of Predicted vs. Actual Values\") \n",
    "plt.xlabel ('revenue actual')\n",
    "plt.ylabel ('revenue pre')\n",
    "print('Accuracy: ', lrm_model.score(X_test, y_test) * 100)"
   ]
  },
  {
   "attachments": {},
   "cell_type": "markdown",
   "id": "63770a53",
   "metadata": {},
   "source": [
    "## Multiple linear regression"
   ]
  },
  {
   "cell_type": "code",
   "execution_count": null,
   "id": "5468a5ea",
   "metadata": {},
   "outputs": [],
   "source": [
    "X = data.drop([\"revenue\", \"Description\", \"InvoiceDate\", \"Country\", \"month_year\", \"StockCode\", \"Invoice\"], axis = 1).values\n",
    "y = data[\"revenue\"].values"
   ]
  },
  {
   "cell_type": "code",
   "execution_count": null,
   "id": "788bfa56",
   "metadata": {},
   "outputs": [],
   "source": [
    "# split to test and train set\n",
    "X_train,X_test,y_train,y_test=train_test_split(X,y, test_size = 0.3, random_state = 0)\n",
    "ml = LinearRegression()\n",
    "ml.fit(X_train, y_train)"
   ]
  },
  {
   "cell_type": "code",
   "execution_count": null,
   "id": "dc9555a8",
   "metadata": {},
   "outputs": [],
   "source": [
    "y_pred = ml.predict(X_test)\n",
    "plt.figure(figsize = (10,5))\n",
    "plt.scatter(y_test, y_pred)\n",
    "plt.xlabel(\"actual\")\n",
    "plt.ylabel(\"predict\")\n",
    "print(\"Accuracy: \", r2_score(y_pred, y_test) * 100)"
   ]
  },
  {
   "cell_type": "code",
   "execution_count": null,
   "id": "fb5460d4",
   "metadata": {},
   "outputs": [],
   "source": [
    "pred_y_df = pd.DataFrame({'Actual revenue': y_test, 'Predicted revenue': y_pred, 'Difference': y_test-y_pred})\n",
    "pred_y_df [0:20]"
   ]
  }
 ],
 "metadata": {
  "kernelspec": {
   "display_name": "Python 3",
   "language": "python",
   "name": "python3"
  },
  "language_info": {
   "codemirror_mode": {
    "name": "ipython",
    "version": 3
   },
   "file_extension": ".py",
   "mimetype": "text/x-python",
   "name": "python",
   "nbconvert_exporter": "python",
   "pygments_lexer": "ipython3",
   "version": "3.10.11"
  },
  "vscode": {
   "interpreter": {
    "hash": "a42ccb73e7d9bfdf27e036f1d2b8b681e55fc0743cc5586bc2474d4a60f4b886"
   }
  }
 },
 "nbformat": 4,
 "nbformat_minor": 5
}
