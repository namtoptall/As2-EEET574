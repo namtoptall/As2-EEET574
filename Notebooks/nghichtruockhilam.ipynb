{
 "cells": [
  {
   "cell_type": "markdown",
   "metadata": {},
   "source": [
    "# Decision making (actually I do it on excel ^_^)\n",
    "## Just ignore this \n",
    "- This notebook contain pre train and pre EDA and pre observations of given dataset(s)\n",
    "- if you dont have time, dont need to read this notebook, it just pre-step\n",
    "### about the requirement dataset : \n",
    "- ```net_manager``` : code of regional network manager\n",
    "- ```Purchase_area```: code of the area where the energy is purchased\n",
    "- ```street```: Name of the street\n",
    "- ```zipcode_from``` and ```zipcode_to```: 2 columns for the range of zipcodes covered, 4 numbers and 2 letters\n",
    "- ```city```: Name of the city\n",
    "- ```num_connections```: Number of connections in the range of zipcodes\n",
    "- ```delivery_perc```: percentage of the net consumption of electricity or gas. The lower, the\n",
    "more energy was given back to the grid (for example if you have solar panels)\n",
    "- ```perc_of_active_connections```: Percentage of active connections in the zipcode range\n",
    "- ```type_of_connection```: principal type of connection in the zipcode range. For electricity\n",
    "is # fuses X # ampère. For gas is G4, G6, G10, G16, G25\n",
    "- ```type_conn_perc```: percentage of presence of the principal type of connection in the\n",
    "zipcode range\n",
    "- ```annual_consume```: Annual consume. Kwh for electricity, m3 for gas\n",
    "- ```annual_consume_lowtarif_perc```: Percentage of consume during the low tarif hours.\n",
    "From 10 p.m. to 7 a.m. and during weekends.\n",
    "- ```smartmeter_perc```: percentage of smartmeters in the zipcode ranges\n"
   ]
  },
  {
   "cell_type": "code",
   "execution_count": null,
   "metadata": {},
   "outputs": [],
   "source": [
    "import pandas as pd\n",
    "import numpy as np \n",
    "import matplotlib.pyplot as plt\n",
    "import seaborn as sns\n",
    "import os\n",
    "import sys\n",
    "\n",
    "data = os.path.abspath(os.path.join('..'))\n",
    "if data not in sys.path:\n",
    "    sys.path.append(data)"
   ]
  },
  {
   "cell_type": "markdown",
   "metadata": {},
   "source": [
    "### First, I will merge all the dataset to clean since they have the same column descriptions"
   ]
  },
  {
   "cell_type": "code",
   "execution_count": null,
   "metadata": {},
   "outputs": [],
   "source": [
    "Ecoteq_2018 = pd.read_csv('C:/TaiLieuHocTap/RMIT/C-2023/BigData/asignment2/EEET2574_Assignment2_data/Electricity/coteq_electricity_2018.csv', sep=',')\n",
    "# add a year column                                                                                                                                                                                                                                                                                                                                     \n",
    "Ecoteq_2018['year'] = 2018\n",
    "#add a Electricity column\n",
    "Ecoteq_2019 = pd.read_csv('C:/TaiLieuHocTap/RMIT/C-2023/BigData/asignment2/EEET2574_Assignment2_data/Electricity/coteq_electricity_2019.csv', sep=',')\n",
    "Ecoteq_2019['year'] = 2019\n",
    "Ecoteq_2020 = pd.read_csv('C:/TaiLieuHocTap/RMIT/C-2023/BigData/asignment2/EEET2574_Assignment2_data/Electricity/coteq_electricity_2020.csv', sep=',')\n",
    "Ecoteq_2020['year'] = 2020\n",
    "Estedin_2018 = pd.read_csv('C:/TaiLieuHocTap/RMIT/C-2023/BigData/asignment2/EEET2574_Assignment2_data/Electricity/stedin_electricity_2018.csv', sep=',')\n",
    "Estedin_2018['year'] = 2018\n",
    "Estedin_2019 = pd.read_csv('C:/TaiLieuHocTap/RMIT/C-2023/BigData/asignment2/EEET2574_Assignment2_data/Electricity/stedin_electricity_2019.csv', sep=',')\n",
    "Estedin_2019['year'] = 2019\n",
    "Estedin_2020 = pd.read_csv('C:/TaiLieuHocTap/RMIT/C-2023/BigData/asignment2/EEET2574_Assignment2_data/Electricity/stedin_electricity_2020.csv', sep=',')\n",
    "Estedin_2020['year'] = 2020\n",
    "Ewestland_2018 = pd.read_csv('C:/TaiLieuHocTap/RMIT/C-2023/BigData/asignment2/EEET2574_Assignment2_data/Electricity/westland-infra_electricity_2018.csv', sep=',')\n",
    "Ewestland_2018['year'] = 2018\n",
    "Ewestland_2019 = pd.read_csv('C:/TaiLieuHocTap/RMIT/C-2023/BigData/asignment2/EEET2574_Assignment2_data/Electricity/westland-infra_electricity_2019.csv', sep=',')\n",
    "Ewestland_2019['year'] = 2019\n",
    "Ewestland_2020 = pd.read_csv('C:/TaiLieuHocTap/RMIT/C-2023/BigData/asignment2/EEET2574_Assignment2_data/Electricity/westland-infra_electricity_2020.csv', sep=',')\n",
    "Ewestland_2020['year'] = 2020\n",
    "#merge all data into one dataframe\n",
    "Electricity = [Ecoteq_2018, Ecoteq_2019, Ecoteq_2020, Estedin_2018, Estedin_2019, Estedin_2020, Ewestland_2018, Ewestland_2019, Ewestland_2020]"
   ]
  },
  {
   "cell_type": "code",
   "execution_count": null,
   "metadata": {},
   "outputs": [],
   "source": [
    "Electricity = pd.concat(Electricity)\n",
    "Electricity = Electricity.reset_index(drop=True)\n",
    "Electricity.head()"
   ]
  },
  {
   "cell_type": "code",
   "execution_count": null,
   "metadata": {},
   "outputs": [],
   "source": [
    "# drop 'STANDAARDDEVIATIE', '%Defintieve aansl (NRM)' columns\n",
    "Electricity = Electricity.drop(['STANDAARDDEVIATIE', '%Defintieve aansl (NRM)'], axis=1)\n",
    "Electricity.head()"
   ]
  },
  {
   "cell_type": "code",
   "execution_count": null,
   "metadata": {},
   "outputs": [],
   "source": [
    "# #number of rows\n",
    "# Electricity.shape"
   ]
  },
  {
   "cell_type": "code",
   "execution_count": null,
   "metadata": {},
   "outputs": [],
   "source": [
    "Gcoteq_2018 = pd.read_csv('C:/TaiLieuHocTap/RMIT/C-2023/BigData/asignment2/EEET2574_Assignment2_data/Gas/coteq_gas_2018.csv', sep=',')\n",
    "Gcoteq_2018['year'] = 2018\n",
    "Gcoteq_2019 = pd.read_csv('C:/TaiLieuHocTap/RMIT/C-2023/BigData/asignment2/EEET2574_Assignment2_data/Gas/coteq_gas_2019.csv', sep=',')\n",
    "Gcoteq_2019['year'] = 2019\n",
    "Gcoteq_2020 = pd.read_csv('C:/TaiLieuHocTap/RMIT/C-2023/BigData/asignment2/EEET2574_Assignment2_data/Gas/coteq_gas_2020.csv', sep=',')\n",
    "Gcoteq_2020['year'] = 2020\n",
    "Gstedin_2018 = pd.read_csv('C:/TaiLieuHocTap/RMIT/C-2023/BigData/asignment2/EEET2574_Assignment2_data/Gas/stedin_gas_2018.csv', sep=',')\n",
    "Gstedin_2018['year'] = 2018\n",
    "Gstedin_2019 = pd.read_csv('C:/TaiLieuHocTap/RMIT/C-2023/BigData/asignment2/EEET2574_Assignment2_data/Gas/stedin_gas_2019.csv', sep=',')\n",
    "Gstedin_2019['year'] = 2019\n",
    "Gstedin_2020 = pd.read_csv('C:/TaiLieuHocTap/RMIT/C-2023/BigData/asignment2/EEET2574_Assignment2_data/Gas/stedin_gas_2020.csv', sep=',')\n",
    "Gstedin_2020['year'] = 2020\n",
    "Gwestland_2018 = pd.read_csv('C:/TaiLieuHocTap/RMIT/C-2023/BigData/asignment2/EEET2574_Assignment2_data/Gas/westland-infra_gas_2018.csv', sep=',')\n",
    "Gwestland_2018['year'] = 2018\n",
    "Gwestland_2019 = pd.read_csv('C:/TaiLieuHocTap/RMIT/C-2023/BigData/asignment2/EEET2574_Assignment2_data/Gas/westland-infra_gas_2019.csv', sep=',')\n",
    "Gwestland_2019['year'] = 2019\n",
    "Gwestland_2020 = pd.read_csv('C:/TaiLieuHocTap/RMIT/C-2023/BigData/asignment2/EEET2574_Assignment2_data/Gas/westland-infra_gas_2020.csv', sep=',')\n",
    "Gwestland_2020['year'] = 2020\n",
    "# merge all data into one dataframe\n",
    "Gas = [Gcoteq_2018, Gcoteq_2019, Gcoteq_2020, Gstedin_2018, Gstedin_2019, Gstedin_2020, Gwestland_2018, Gwestland_2019, Gwestland_2020]"
   ]
  },
  {
   "cell_type": "code",
   "execution_count": null,
   "metadata": {},
   "outputs": [],
   "source": [
    "#merge gas and electricity dataset\n",
    "dataset = [Gas,Electricity]\n",
    "dataset = pd.concat(Gas)\n",
    "dataset = dataset.reset_index(drop=True)\n",
    "dataset.head()"
   ]
  },
  {
   "cell_type": "code",
   "execution_count": null,
   "metadata": {},
   "outputs": [],
   "source": [
    "dataset.shape"
   ]
  },
  {
   "cell_type": "code",
   "execution_count": null,
   "metadata": {},
   "outputs": [],
   "source": [
    "dataset.columns"
   ]
  },
  {
   "cell_type": "code",
   "execution_count": null,
   "metadata": {},
   "outputs": [],
   "source": [
    "# drop the 'STANDAARDDEVIATIE', '%Defintieve aansl (NRM)' columns\n",
    "dataset = dataset.drop(['STANDAARDDEVIATIE', '%Defintieve aansl (NRM)'], axis=1)\n",
    "dataset.head()"
   ]
  },
  {
   "cell_type": "code",
   "execution_count": null,
   "metadata": {},
   "outputs": [],
   "source": [
    "dataset.info()"
   ]
  },
  {
   "cell_type": "code",
   "execution_count": null,
   "metadata": {},
   "outputs": [],
   "source": [
    "dataset['net_manager'].value_counts()"
   ]
  },
  {
   "cell_type": "code",
   "execution_count": null,
   "metadata": {},
   "outputs": [],
   "source": [
    "# replace numerical values in net_manager into Stedin B.V\n",
    "dataset['net_manager'] = dataset['net_manager'].replace({\n",
    "    '8716892000005': 'Stedin B.V.',\n",
    "    '8716874000009': 'Stedin B.V.',\n",
    "    '8716886000004': 'Stedin B.V.',\n",
    "    '8716921000006': 'Stedin B.V.',\n",
    "    '8716892750009': 'Stedin B.V.',\n",
    "    '8716892700004': 'Stedin B.V.',\n",
    "    '8716892740000': 'Stedin B.V.',\n",
    "    '8716892710003': 'Stedin B.V.',\n",
    "    '8716892720002': 'Stedin B.V.',\n",
    "    '8716925000002': 'Stedin B.V.',\n",
    "    '8716924000003': 'Stedin B.V.',\n",
    "})\n"
   ]
  },
  {
   "cell_type": "code",
   "execution_count": null,
   "metadata": {},
   "outputs": [],
   "source": [
    "dataset['net_manager'].value_counts()"
   ]
  },
  {
   "cell_type": "markdown",
   "metadata": {},
   "source": [
    "### I don't really understand it, but I thinks this is the list of net_manager company in Netherland\n",
    "<https://www.acm.nl/sites/default/files/old_publication/bijlagen/4168_102669_Brief_Informatieverzoek_m.b.t._stuurinformatie_16_augustus_2010.pdf>\n",
    "* findings: the above ner_manager id from Stedin B.V company. I will replace the id with real company name to match with the whole dataset"
   ]
  },
  {
   "cell_type": "code",
   "execution_count": null,
   "metadata": {},
   "outputs": [],
   "source": []
  },
  {
   "cell_type": "code",
   "execution_count": null,
   "metadata": {},
   "outputs": [],
   "source": [
    "dataset['purchase_area'].value_counts()"
   ]
  },
  {
   "cell_type": "markdown",
   "metadata": {},
   "source": []
  },
  {
   "cell_type": "code",
   "execution_count": null,
   "metadata": {},
   "outputs": [],
   "source": [
    "Ecoteq_2018 = pd.read_csv('C:/TaiLieuHocTap/RMIT/C-2023/BigData/asignment2/EEET2574_Assignment2_data/Electricity/coteq_electricity_2018.csv', sep=',')\n",
    "# add a year column                                                                                                                                                                                                                                                                                                                                     \n",
    "Ecoteq_2018['year'] = 2018\n",
    "Ecoteq_2019 = pd.read_csv('C:/TaiLieuHocTap/RMIT/C-2023/BigData/asignment2/EEET2574_Assignment2_data/Electricity/coteq_electricity_2019.csv', sep=',')\n",
    "Ecoteq_2019['year'] = 2019\n",
    "Ecoteq_2020 = pd.read_csv('C:/TaiLieuHocTap/RMIT/C-2023/BigData/asignment2/EEET2574_Assignment2_data/Electricity/coteq_electricity_2020.csv', sep=',')\n",
    "Ecoteq_2020['year'] = 2020"
   ]
  },
  {
   "cell_type": "code",
   "execution_count": null,
   "metadata": {},
   "outputs": [],
   "source": [
    "print(\"Coteq 2018 data columns :\\n\",Ecoteq_2018.columns,'\\n',\n",
    "      \"Coteq 2019 data columns :\\n\",Ecoteq_2019.columns,'\\n',\n",
    "      \"Coteq 2020 data columns :\\n\",Ecoteq_2020.columns,'\\n'\n",
    ")"
   ]
  },
  {
   "cell_type": "code",
   "execution_count": null,
   "metadata": {},
   "outputs": [],
   "source": [
    "Ecoteq_merge = pd.concat([Ecoteq_2018, Ecoteq_2019, Ecoteq_2020], ignore_index=True)\n",
    "Ecoteq_merge.head()"
   ]
  },
  {
   "cell_type": "markdown",
   "metadata": {},
   "source": [
    "So, we have 2 values for net_manager in netherland \n",
    "- Cogas Infra & Beheer BV    \n",
    "- Coteq Netbeheer BV         \n"
   ]
  },
  {
   "cell_type": "code",
   "execution_count": null,
   "metadata": {},
   "outputs": [],
   "source": [
    "Estedin_2018 = pd.read_csv('C:/TaiLieuHocTap/RMIT/C-2023/BigData/asignment2/EEET2574_Assignment2_data/Electricity/stedin_electricity_2018.csv', sep=',')\n",
    "Estedin_2018['year'] = 2018\n",
    "Estedin_2019 = pd.read_csv('C:/TaiLieuHocTap/RMIT/C-2023/BigData/asignment2/EEET2574_Assignment2_data/Electricity/stedin_electricity_2019.csv', sep=',')\n",
    "Estedin_2019['year'] = 2019\n",
    "Estedin_2020 = pd.read_csv('C:/TaiLieuHocTap/RMIT/C-2023/BigData/asignment2/EEET2574_Assignment2_data/Electricity/stedin_electricity_2020.csv', sep=',')\n",
    "Estedin_2020['year'] = 2020\n"
   ]
  },
  {
   "cell_type": "code",
   "execution_count": null,
   "metadata": {},
   "outputs": [],
   "source": [
    "print(\"Estedin 2018 data columns : \\n\",Estedin_2018.columns,'\\n',\n",
    "        \"Estedin 2019 data columns \\n:\",Estedin_2019.columns,'\\n',\n",
    "        \"Estedin 2020 data columns \\n:\",Estedin_2020.columns,'\\n'\n",
    "        )"
   ]
  },
  {
   "cell_type": "markdown",
   "metadata": {},
   "source": [
    "- There is one columns which not in the requirements which is ```STANDAARDDEVIATIE``` --> remove it "
   ]
  },
  {
   "cell_type": "code",
   "execution_count": null,
   "metadata": {},
   "outputs": [],
   "source": [
    "# drop the STANDAARDDEVIATIE column\n",
    "Estedin_2020 = Estedin_2020.drop([\"STANDAARDDEVIATIE\"], axis=1)\n",
    "Estedin_2020.head()"
   ]
  },
  {
   "cell_type": "code",
   "execution_count": null,
   "metadata": {},
   "outputs": [],
   "source": [
    "Estedin_merge = pd.concat([Estedin_2018, Estedin_2019, Estedin_2020])\n",
    "Estedin_merge.head()"
   ]
  },
  {
   "cell_type": "code",
   "execution_count": null,
   "metadata": {},
   "outputs": [],
   "source": [
    "# check for net_manager values\n",
    "Estedin_merge['net_manager'].value_counts()"
   ]
  },
  {
   "cell_type": "markdown",
   "metadata": {},
   "source": [
    "### I don't really understand it, but I thinks this is the list of net_manager company in Netherland\n",
    "<https://www.acm.nl/sites/default/files/old_publication/bijlagen/4168_102669_Brief_Informatieverzoek_m.b.t._stuurinformatie_16_augustus_2010.pdf>\n",
    "* findings: the above ner_manager id from Stedin B.V company. I will replace the id with real company name to match with the whole dataset"
   ]
  },
  {
   "cell_type": "code",
   "execution_count": null,
   "metadata": {},
   "outputs": [],
   "source": [
    "# Replace id_number into net_manager name \n",
    "Estedin_merge['net_manager'] = 'Stedin B.V.'\n",
    "Estedin_merge.head(10)"
   ]
  },
  {
   "cell_type": "code",
   "execution_count": null,
   "metadata": {},
   "outputs": [],
   "source": [
    "Ewestland_2018 = pd.read_csv('C:/TaiLieuHocTap/RMIT/C-2023/BigData/asignment2/EEET2574_Assignment2_data/Electricity/westland-infra_electricity_2018.csv', sep=',')\n",
    "Ewestland_2018['year'] = 2018\n",
    "Ewestland_2019 = pd.read_csv('C:/TaiLieuHocTap/RMIT/C-2023/BigData/asignment2/EEET2574_Assignment2_data/Electricity/westland-infra_electricity_2019.csv', sep=',')\n",
    "Ewestland_2019['year'] = 2019\n",
    "Ewestland_2020 = pd.read_csv('C:/TaiLieuHocTap/RMIT/C-2023/BigData/asignment2/EEET2574_Assignment2_data/Electricity/westland-infra_electricity_2020.csv', sep=',')\n",
    "Ewestland_2020['year'] = 2020"
   ]
  },
  {
   "cell_type": "code",
   "execution_count": null,
   "metadata": {},
   "outputs": [],
   "source": [
    "print(\"Ewestland 2018 data columns \\n:\",Ewestland_2018.columns,'\\n',\n",
    "        \"Ewestland 2019 data columns \\n:\",Ewestland_2019.columns,'\\n',\n",
    "        \"Ewestland 2020 data columns \\n:\",Ewestland_2020.columns,'\\n'\n",
    "        )"
   ]
  },
  {
   "cell_type": "code",
   "execution_count": null,
   "metadata": {},
   "outputs": [],
   "source": [
    "Ewestland_merge = pd.concat([Ewestland_2018, Ewestland_2019, Ewestland_2020])\n",
    "Ewestland_merge = Ewestland_merge.drop([\"%Defintieve aansl (NRM)\"], axis=1)\n",
    "Ewestland_merge.head()"
   ]
  },
  {
   "cell_type": "code",
   "execution_count": null,
   "metadata": {},
   "outputs": [],
   "source": [
    "Ewestland_merge['net_manager'].value_counts()"
   ]
  },
  {
   "cell_type": "code",
   "execution_count": null,
   "metadata": {},
   "outputs": [],
   "source": [
    "Ewestland_merge['purchase_area'].value_counts()"
   ]
  },
  {
   "cell_type": "markdown",
   "metadata": {},
   "source": [
    "- We need to modify the purchase_area value into specific name (to match with the dataset)\n",
    "- According to https://arno.uvt.nl/show.cgi?fid=158627, id 871687800090000015 stand for westland. So I will the value by westland"
   ]
  },
  {
   "cell_type": "code",
   "execution_count": null,
   "metadata": {},
   "outputs": [],
   "source": [
    "Ewestland_merge['purchase_area'] = \"Westland\"\n",
    "Ewestland_merge"
   ]
  },
  {
   "cell_type": "code",
   "execution_count": null,
   "metadata": {},
   "outputs": [],
   "source": [
    "#Merge 9 dataset\n",
    "Electricity = pd.concat([Ecoteq_2018, Ecoteq_2019, Ecoteq_2020, \n",
    "                         Estedin_merge, Ewestland_merge], ignore_index=True)\n",
    "Electricity.head() "
   ]
  },
  {
   "cell_type": "code",
   "execution_count": null,
   "metadata": {},
   "outputs": [],
   "source": [
    "#check for columns name to ensure that all columns are the same with the given requirements\n",
    "Electricity.columns "
   ]
  },
  {
   "cell_type": "markdown",
   "metadata": {},
   "source": [
    "### Since the dataset is collected from a vary if company, I will chek each column first"
   ]
  },
  {
   "cell_type": "code",
   "execution_count": null,
   "metadata": {},
   "outputs": [],
   "source": [
    "# check for net_manager value\n",
    "Electricity['net_manager'].value_counts()"
   ]
  },
  {
   "cell_type": "code",
   "execution_count": null,
   "metadata": {},
   "outputs": [],
   "source": [
    "Electricity['purchase_area'].value_counts()"
   ]
  },
  {
   "cell_type": "code",
   "execution_count": null,
   "metadata": {},
   "outputs": [],
   "source": [
    "Estreet = Electricity['street'].value_counts()\n",
    "Estreet"
   ]
  },
  {
   "cell_type": "markdown",
   "metadata": {},
   "source": [
    "### briefly dataset eda"
   ]
  },
  {
   "cell_type": "code",
   "execution_count": null,
   "metadata": {},
   "outputs": [],
   "source": [
    "# check for dataset information\n",
    "Electricity.info()"
   ]
  },
  {
   "cell_type": "code",
   "execution_count": null,
   "metadata": {},
   "outputs": [],
   "source": [
    "Electricity.shape"
   ]
  },
  {
   "cell_type": "code",
   "execution_count": null,
   "metadata": {},
   "outputs": [],
   "source": [
    "Electricity.describe()"
   ]
  },
  {
   "cell_type": "markdown",
   "metadata": {},
   "source": [
    "# truoc khi train, style lai distribution of numerical columns "
   ]
  },
  {
   "cell_type": "markdown",
   "metadata": {},
   "source": [
    "- find meanings of the above statistical "
   ]
  },
  {
   "cell_type": "code",
   "execution_count": null,
   "metadata": {},
   "outputs": [],
   "source": [
    "Electricity.isnull().sum()"
   ]
  },
  {
   "cell_type": "markdown",
   "metadata": {},
   "source": [
    "- NMA CO RAT NHIEU 0"
   ]
  },
  {
   "cell_type": "markdown",
   "metadata": {},
   "source": [
    "## Observation :\n",
    "- dataset containt no null value \n",
    "- 15 columns (14 + Year )\n",
    "- numerical (we can use as features) columns: num_connections,delivery_perc,perc_of_active_connections,type_conn_perc,annual_consume, annual_consume_lowtarif_perc,smartmeter_perc\n",
    "- nominal values: net_manager, purchase_area, street, city"
   ]
  },
  {
   "cell_type": "code",
   "execution_count": null,
   "metadata": {},
   "outputs": [],
   "source": [
    "Electricity.dtypes"
   ]
  },
  {
   "cell_type": "markdown",
   "metadata": {},
   "source": [
    "### Apply float data type into num_connections"
   ]
  },
  {
   "cell_type": "code",
   "execution_count": null,
   "metadata": {},
   "outputs": [],
   "source": [
    "# apply float to num_connections column\n",
    "Electricity['num_connections'] = Electricity['num_connections'].astype(float)\n",
    "Electricity.dtypes"
   ]
  },
  {
   "cell_type": "markdown",
   "metadata": {},
   "source": [
    "##### The ```street``` and ```city``` columns contain differences variables so I will dig into those two columns  "
   ]
  },
  {
   "cell_type": "code",
   "execution_count": null,
   "metadata": {},
   "outputs": [],
   "source": [
    "Electricity['city'].value_counts()"
   ]
  },
  {
   "cell_type": "code",
   "execution_count": null,
   "metadata": {},
   "outputs": [],
   "source": [
    "cols = Electricity.columns[Electricity.dtypes == 'object'].tolist()\n",
    "for column in cols:\n",
    "    Electricity[column] = Electricity[column].str.replace(r'[^a-zA-Z0-9 ]', \" \", regex=False) #replaced typos by whitespaces\n",
    "    Electricity[column] = Electricity[column].str.replace('-', \" \", regex=False) #replaced typos by whitespaces\n",
    "    Electricity[column] = Electricity[column].str.replace('  ', \" \", regex=False) \n",
    "    Electricity[column] = Electricity[column].str.replace(' ', \" \", regex=False)"
   ]
  },
  {
   "cell_type": "markdown",
   "metadata": {},
   "source": [
    "- 'SâGRAVENHAGE and some city have '-' in name. I will replace 'SâGRAVENHAGE by 'S GRAVENHAGE\n",
    "- Based on the grographical missknowledge of Netherlands and some brief researcg, I decided to keep the 't and 's, also the cities with '-'\n",
    "- <https://www.quora.com/Why-do-some-Dutch-city-names-begin-with-the-s-s-Hertogenbosch-for-example>"
   ]
  },
  {
   "cell_type": "code",
   "execution_count": null,
   "metadata": {},
   "outputs": [],
   "source": [
    "# - 'SâGRAVENHAGE and some city have '-' in name. I will replace 'SâGRAVENHAGE by 'S GRAVENHAGE\n",
    "Electricity['city'] = Electricity['city'].replace('SâGRAVENHAGE','S GRAVENHAGE')"
   ]
  },
  {
   "cell_type": "code",
   "execution_count": null,
   "metadata": {},
   "outputs": [],
   "source": [
    "# a function count value for all columns\n",
    "def count_values(df):\n",
    "    for column in df.columns:\n",
    "        print(df[column].value_counts())\n",
    "        print('------------------------------------')\n",
    "count_values(Electricity)"
   ]
  },
  {
   "cell_type": "code",
   "execution_count": null,
   "metadata": {},
   "outputs": [],
   "source": [
    "Electricity.dtypes"
   ]
  },
  {
   "cell_type": "markdown",
   "metadata": {},
   "source": [
    "- not need to check duplicate"
   ]
  },
  {
   "cell_type": "code",
   "execution_count": null,
   "metadata": {},
   "outputs": [],
   "source": [
    "#check for extra whitespace in columns\n",
    "def checkExtraWhiteSpace(ColName):\n",
    "    Variable = [] \n",
    "    for anwser in Electricity[ColName].unique():\n",
    "        for Com_Val in str(anwser).split(\";\"):\n",
    "            if (Com_Val in Variable): \n",
    "                break\n",
    "            words = Com_Val.split(\" \")\n",
    "            if (\"\" in words):\n",
    "                print(\"Column '{}', variable '{}' contains extra whitespace.\".format(ColName, Com_Val)\n",
    "                )\n",
    "                Variable.append(Com_Val)\n",
    "                break\n",
    "            \n",
    "for column in Electricity.columns:\n",
    "    if (str(Electricity[column].dtypes) == \"object\"):\n",
    "        checkExtraWhiteSpace(column)"
   ]
  },
  {
   "cell_type": "code",
   "execution_count": null,
   "metadata": {},
   "outputs": [],
   "source": [
    "# remove whitespaces from street column\n",
    "Electricity['street'] = Electricity['street'].str.strip()"
   ]
  },
  {
   "cell_type": "code",
   "execution_count": null,
   "metadata": {},
   "outputs": [],
   "source": [
    "Electricity.head()"
   ]
  },
  {
   "cell_type": "code",
   "execution_count": null,
   "metadata": {},
   "outputs": [],
   "source": [
    "# merge the zip_code from and zip_code to columns into one column\n",
    "Electricity['zipcode'] = Electricity['zipcode_from'] + '-' + Electricity['zipcode_from']\n",
    "# apply lowercase to net_manager, purchase_aream street and city columns\n",
    "Electricity['net_manager'] = Electricity['net_manager'].str.lower()\n",
    "Electricity['purchase_area'] = Electricity['purchase_area'].str.lower()\n",
    "Electricity['street'] = Electricity['street'].str.lower()\n",
    "Electricity['city'] = Electricity['city'].str.lower()\n",
    "Electricity.head()"
   ]
  },
  {
   "cell_type": "code",
   "execution_count": null,
   "metadata": {},
   "outputs": [],
   "source": [
    "Electricity['num_connections'].value_counts()"
   ]
  },
  {
   "cell_type": "code",
   "execution_count": null,
   "metadata": {},
   "outputs": [],
   "source": [
    "types = Electricity['type_of_connection'].unique()\n",
    "counts = Electricity['type_of_connection'].value_counts()\n",
    "\n",
    "# plt.pie(counts, labels=types, autopct='%1.1f%%', startangle=90)\n",
    "# plt.title('Distribution of Types of Connections')\n",
    "# plt.show()\n",
    "\n",
    "# Create a bar chart to display the distribution of types of connections\n",
    "plt.bar(range(len(types)), counts, align='center')\n",
    "plt.xticks(range(len(types)), types)\n",
    "plt.title('Distribution of Types of Connections')\n",
    "plt.show()"
   ]
  },
  {
   "cell_type": "code",
   "execution_count": null,
   "metadata": {},
   "outputs": [],
   "source": [
    "# from sklearn.preprocessing import OneHotEncoder\n",
    "\n",
    "# encoder = OneHotEncoder(categories='auto')\n",
    "\n",
    "# encoder.fit(Electricity[['zipcode']])\n",
    "# encoded_zips = encoder.transform(Electricity[['zipcode']]).toarray()\n",
    "# Electricity = Electricity.join(pd.DataFrame(encoded_zips, columns=encoder.categories_[0], index=Electricity.index))"
   ]
  },
  {
   "cell_type": "code",
   "execution_count": null,
   "metadata": {},
   "outputs": [],
   "source": [
    "#number of rows\n",
    "Electricity.shape"
   ]
  },
  {
   "cell_type": "code",
   "execution_count": null,
   "metadata": {},
   "outputs": [],
   "source": [
    "# import geopandas as gpd\n",
    "# import folium\n",
    "\n",
    "# # Convert the zipcode columns to a numerical format\n",
    "# Electricity['zipcode_from'] = Electricity['zipcode_from'].str.replace(' ', '')\n",
    "# Electricity['zipcode_to'] = Electricity['zipcode_to'].str.replace(' ', '')\n",
    "\n",
    "# # Create a geodataframe from the dataframe and add the geometry column\n",
    "# gEL = gpd.GeoDataFrame(Electricity, geometry=gpd.points_from_xy(Electricity['longitude'], Electricity['latitude']))\n",
    "\n",
    "# # Create a map using the folium library\n",
    "# m = folium.Map(location=[45.5236, -122.6750], zoom_start=10)\n",
    "\n",
    "# # Add the geodataframe to the map\n",
    "# m.add_child(gEL)\n",
    "\n",
    "# # Create a choropleth map using the folium.Choropleth() function\n",
    "# m.choropleth(\n",
    "#     geo_data=gEL,\n",
    "#     data=Electricity['annual_consume'],\n",
    "#     columns=['annual_consume'],\n",
    "#     key_on='feature.id',\n",
    "#     fill_color='YlGnBu',\n",
    "#     fill_opacity=0.7,\n",
    "#     line_opacity=0.2,\n",
    "#     legend_name='Annual Consume'\n",
    "# )\n",
    "# #display the map\n",
    "# m"
   ]
  },
  {
   "cell_type": "code",
   "execution_count": null,
   "metadata": {},
   "outputs": [],
   "source": [
    "# save the merged dataset to a csv file\n",
    "Electricity.to_csv('Electricity.csv', index=False)\n"
   ]
  },
  {
   "cell_type": "code",
   "execution_count": null,
   "metadata": {},
   "outputs": [],
   "source": [
    "type = Electricity['type_conn_perc'].value_counts()"
   ]
  },
  {
   "cell_type": "code",
   "execution_count": null,
   "metadata": {},
   "outputs": [],
   "source": [
    "# heatmap to plot the correlation between columns \n",
    "plt.figure(figsize=(12,8))\n",
    "sns.heatmap(Electricity.corr(), annot=True, cmap='viridis')\n",
    "plt.show()\n"
   ]
  }
 ],
 "metadata": {
  "kernelspec": {
   "display_name": ".venv",
   "language": "python",
   "name": "python3"
  },
  "language_info": {
   "codemirror_mode": {
    "name": "ipython",
    "version": 3
   },
   "file_extension": ".py",
   "mimetype": "text/x-python",
   "name": "python",
   "nbconvert_exporter": "python",
   "pygments_lexer": "ipython3",
   "version": "3.10.11"
  }
 },
 "nbformat": 4,
 "nbformat_minor": 2
}
