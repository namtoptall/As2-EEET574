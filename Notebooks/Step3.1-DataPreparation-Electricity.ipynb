{
 "cells": [
  {
   "cell_type": "code",
   "execution_count": 1,
   "metadata": {},
   "outputs": [],
   "source": [
    "import pandas as pd\n",
    "import numpy as np \n",
    "import matplotlib.pyplot as plt\n",
    "import seaborn as sns"
   ]
  },
  {
   "cell_type": "markdown",
   "metadata": {},
   "source": [
    "### Todo: metrics visulization, transformation \n",
    "\n",
    "##### One-hot encoding: a process of converting categorical variables into binary vectors, where each category becomes a separate binary vector.\n",
    "- A -> [1,0,0]\n",
    "- B -> [0,1,0]\n",
    "- C -> [0,0,1]\n",
    "##### Label encoding is a process of assigning a unique integer value to each category in a categorical column.\n",
    "- A -> 0\n",
    "- B -> 1\n",
    "- C -> 2\n",
    "\n",
    "--> todo : \n",
    "- data visualization\n",
    "- categorical : label encoding\n",
    "- for zipcode: one-hot encoding \n",
    "- ordinal data\n",
    "- data normalization \n",
    "#### While Nominal Data is classified without any intrinsic ordering or rank, Ordinal Data has some predetermined or natural order. Nominal data is qualitative or categorical data, while Ordinal data is considered “in-between” qualitative and quantitative data\n",
    "--> clean, transform, split, model \n",
    "- fe>>model selection>>training>>validate\n",
    "- Correlation between electricity consumption and other variables:\n",
    "- annual_consumption by street\n",
    "- annual_consumption by zip code (lam sao ta)\n",
    "- A bar chart/line graph could be used to show the adoption rate of smart meters over time.\n",
    "- we can consider smarmeter_perc as categorical dtypes\n",
    "\n",
    "--> transform by each column"
   ]
  },
  {
   "cell_type": "code",
   "execution_count": null,
   "metadata": {},
   "outputs": [],
   "source": []
  }
 ],
 "metadata": {
  "kernelspec": {
   "display_name": ".venv",
   "language": "python",
   "name": "python3"
  },
  "language_info": {
   "codemirror_mode": {
    "name": "ipython",
    "version": 3
   },
   "file_extension": ".py",
   "mimetype": "text/x-python",
   "name": "python",
   "nbconvert_exporter": "python",
   "pygments_lexer": "ipython3",
   "version": "3.10.11"
  }
 },
 "nbformat": 4,
 "nbformat_minor": 2
}
